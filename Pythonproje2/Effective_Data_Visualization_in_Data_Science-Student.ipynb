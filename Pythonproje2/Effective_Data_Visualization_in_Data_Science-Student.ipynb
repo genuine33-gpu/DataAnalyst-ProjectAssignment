{
 "cells": [
  {
   "attachments": {},
   "cell_type": "markdown",
   "metadata": {},
   "source": [
    "# <p style=\"background-color:green;font-family:newtimeroman;font-size:200%;color:white;text-align:center;border-radius:20px 20px;\"><b>Effective Data Visualization in Data_Science</b></p>\n",
    "![](https://www.techproeducation.com/logo/headerlogo.svg)\n",
    "\n",
    "<b>Yeniliklerden ilk siz haberdar olmak istiyorsanız lütfen bizi takip etmeyi unutmayın </b>[YouTube](https://www.youtube.com/c/techproeducation) | [Instagram](https://www.instagram.com/techproeducation) | [Facebook](https://www.facebook.com/techproeducation) | [Telegram](https://t.me/joinchat/HH2qRvA-ulh4OWbb) | [Watsapp](https://api.whatsapp.com/send/?phone=%2B15853042959&text&type=phone_number&app_absent=0) | [Linkedin](https://www.linkedin.com/company/techproeducation/mycompany/) |"
   ]
  },
  {
   "cell_type": "markdown",
   "metadata": {
    "id": "pQX-QFqa8W65"
   },
   "source": [
    "# EFFECTIVE DATA VISUALIZATION IN DATA SCIENCE WITH MATPLOTLIB AND SEABORN"
   ]
  },
  {
   "cell_type": "markdown",
   "metadata": {
    "id": "b-NkBddLe3IK"
   },
   "source": [
    "## CODING TASK #1. PLOT PIE CHART USING MATPLOTLIB"
   ]
  },
  {
   "cell_type": "markdown",
   "metadata": {
    "id": "-J-k8rWK8W7E"
   },
   "source": [
    "- **The plot method on Pandas Series and DataFrames is just a simple wrapper around plt.plot():**\n",
    "- **Define a Pandas Dataframe with all crypto allocation in a given portfolio**\n",
    "- **Note that total sum = 100%** \n",
    "- **Use matplotlib to plot a pie chart** "
   ]
  },
  {
   "cell_type": "code",
   "execution_count": null,
   "metadata": {},
   "outputs": [],
   "source": []
  },
  {
   "cell_type": "code",
   "execution_count": null,
   "metadata": {},
   "outputs": [],
   "source": []
  },
  {
   "cell_type": "code",
   "execution_count": null,
   "metadata": {},
   "outputs": [],
   "source": []
  },
  {
   "cell_type": "markdown",
   "metadata": {
    "id": "oph4Rlv48GqA"
   },
   "source": [
    "**PRACTICE OPPORTUNITY #1:**\n",
    "- **Assume that you became bullish on XRP and decided to allocate 60% of your assets in it. You also decided to equally divide the rest of your assets in other coins (BTC, LTC, ADA, and ETH). Change the allocations and plot the pie chart.**\n",
    "- **Use 'explode' to increase the separation between XRP and the rest of the portfolio (External Research is Required)**"
   ]
  },
  {
   "cell_type": "code",
   "execution_count": null,
   "metadata": {
    "id": "f-jhA9Ey8W7F"
   },
   "outputs": [],
   "source": []
  },
  {
   "cell_type": "code",
   "execution_count": null,
   "metadata": {
    "id": "3LwOBuM_j05R"
   },
   "outputs": [],
   "source": []
  },
  {
   "cell_type": "code",
   "execution_count": null,
   "metadata": {
    "id": "Qk-Xvxjxj1ax"
   },
   "outputs": [],
   "source": []
  },
  {
   "cell_type": "markdown",
   "metadata": {
    "id": "SFN66X63c2RL"
   },
   "source": [
    "## CODING TASK #2. PLOT SINGLE & MULTIPLE LINE PLOTS USING MATPLOTLIB\n",
    "- **Use Pandas read_csv to read crypto_daily_prices (BTC, ETH, and LTC)**\n",
    "- **Use matplotlib on the Pandas DataFrame to plot the data**"
   ]
  },
  {
   "cell_type": "code",
   "execution_count": null,
   "metadata": {
    "id": "BSB1CawNbB7c"
   },
   "outputs": [],
   "source": [
    "investments_df = pd.read_csv('crypto_daily_prices.csv')\n",
    "investments_df"
   ]
  },
  {
   "cell_type": "code",
   "execution_count": null,
   "metadata": {
    "id": "GCnCE99wNCQ4"
   },
   "outputs": [],
   "source": []
  },
  {
   "cell_type": "code",
   "execution_count": null,
   "metadata": {},
   "outputs": [],
   "source": []
  },
  {
   "cell_type": "markdown",
   "metadata": {
    "id": "Q5pQ4Tvf8W7H"
   },
   "source": [
    "**PRACTICE OPPORTUNITY #2:**\n",
    "- **Use subplots attribute to plot separate figures for BTC, ETH, and ADA**"
   ]
  },
  {
   "cell_type": "code",
   "execution_count": null,
   "metadata": {
    "id": "e17yWhg28W7H"
   },
   "outputs": [],
   "source": []
  },
  {
   "cell_type": "code",
   "execution_count": null,
   "metadata": {},
   "outputs": [],
   "source": []
  },
  {
   "cell_type": "code",
   "execution_count": null,
   "metadata": {},
   "outputs": [],
   "source": []
  },
  {
   "cell_type": "markdown",
   "metadata": {
    "id": "Zt75d5cadpZI"
   },
   "source": [
    "## CODING TASK #3. PLOT SCATTERPLOTS USING MATPLOTLIB\n",
    "- **Read daily return data using pandas**\n",
    "- **Plot Daily returns of BTC vs. ETH**"
   ]
  },
  {
   "cell_type": "code",
   "execution_count": null,
   "metadata": {
    "id": "zW1BYqO9nQ2r"
   },
   "outputs": [],
   "source": [
    "daily_return_df = pd.read_csv('crypto_daily_returns.csv')\n",
    "daily_return_df"
   ]
  },
  {
   "cell_type": "code",
   "execution_count": null,
   "metadata": {},
   "outputs": [],
   "source": []
  },
  {
   "cell_type": "code",
   "execution_count": null,
   "metadata": {},
   "outputs": [],
   "source": []
  },
  {
   "cell_type": "markdown",
   "metadata": {
    "id": "0x1qk01f7PJJ"
   },
   "source": [
    "**PRACTICE OPPORTUNITY #3:**\n",
    "- **Plot the daily returns of BTC vs. ADA, choose your favourite color!**"
   ]
  },
  {
   "cell_type": "code",
   "execution_count": null,
   "metadata": {
    "id": "F28db9us-aI8"
   },
   "outputs": [],
   "source": []
  },
  {
   "cell_type": "code",
   "execution_count": null,
   "metadata": {},
   "outputs": [],
   "source": []
  },
  {
   "cell_type": "code",
   "execution_count": null,
   "metadata": {},
   "outputs": [],
   "source": []
  },
  {
   "cell_type": "markdown",
   "metadata": {
    "id": "wmjT_xMffg-X"
   },
   "source": [
    "## CODING TASK #4. PLOT HISTOGRAMS USING MATPLOTLIB\n",
    "- **A histogram represents data using bars with various heights**\n",
    "- **Each bar groups numbers into specific ranges**\n",
    "- **Taller bars show that more data falls within that specific range**\n",
    "- **Plot the histogram of the returns**"
   ]
  },
  {
   "cell_type": "code",
   "execution_count": null,
   "metadata": {
    "id": "NH2akC9gfkXZ"
   },
   "outputs": [],
   "source": [
    "daily_return_df = pd.read_csv('crypto_daily_returns.csv')\n",
    "daily_return_df"
   ]
  },
  {
   "cell_type": "code",
   "execution_count": null,
   "metadata": {
    "id": "j83GZA7s-weq"
   },
   "outputs": [],
   "source": [
    "mu = round(daily_return_df['BTC'].mean(), 2) # mean of distribution\n",
    "sigma = round(daily_return_df['BTC'].std(), 2) # standard deviation of distribution\n",
    " \n",
    "num_bins = 40"
   ]
  },
  {
   "cell_type": "code",
   "execution_count": null,
   "metadata": {},
   "outputs": [],
   "source": []
  },
  {
   "cell_type": "markdown",
   "metadata": {
    "id": "9Z44sFNRAxI3"
   },
   "source": [
    "**PRACTICE OPPORTUNITY #4:**\n",
    "- **Plot the histogram for BTC and ETH returns using 60 bins. Display all histograms on the same figure**\n"
   ]
  },
  {
   "cell_type": "code",
   "execution_count": null,
   "metadata": {
    "id": "txAd6ldiacDS"
   },
   "outputs": [],
   "source": []
  },
  {
   "cell_type": "code",
   "execution_count": null,
   "metadata": {},
   "outputs": [],
   "source": []
  },
  {
   "cell_type": "code",
   "execution_count": null,
   "metadata": {
    "id": "VZzaF3568W7J"
   },
   "outputs": [],
   "source": []
  },
  {
   "cell_type": "markdown",
   "metadata": {
    "id": "WnhpHVK2bH3s"
   },
   "source": [
    "## CODING TASK #5. PLOT SCATTERPLOT & COUNTPLOT USING SEABORN\n",
    "- **Seaborn is a visualization library that sits on top of matplotlib**\n",
    "- **Seaborn offers enhanced features compared to matplotlib**\n",
    "- **https://seaborn.pydata.org/examples/index.html*/*\n",
    "- **Check out the head of the dataframe**\n",
    "- **Check out the tail of the dataframe**\n",
    "- **Plot scatter plot between mean area and mean smoothness**\n",
    "- **Let's print out countplot to know how many samples belong to class #0 and #1**"
   ]
  },
  {
   "cell_type": "code",
   "execution_count": null,
   "metadata": {
    "id": "2kT8CoYvIEIs"
   },
   "outputs": [],
   "source": [
    "# import libraries \n",
    "import pandas as pd # Import Pandas for data manipulation using dataframes\n",
    "import numpy as np # Import Numpy for data statistical analysis \n",
    "import matplotlib.pyplot as plt # Import matplotlib for data visualisation\n",
    "import seaborn as sns # Statistical data visualization"
   ]
  },
  {
   "cell_type": "code",
   "execution_count": null,
   "metadata": {
    "id": "bUQkwM8IHtlp"
   },
   "outputs": [],
   "source": [
    "# Import Cancer data \n",
    "cancer_df = pd.read_csv('cancer.csv')"
   ]
  },
  {
   "cell_type": "code",
   "execution_count": null,
   "metadata": {
    "id": "BCBZU_VQoqIz"
   },
   "outputs": [],
   "source": []
  },
  {
   "cell_type": "code",
   "execution_count": null,
   "metadata": {},
   "outputs": [],
   "source": []
  },
  {
   "cell_type": "code",
   "execution_count": null,
   "metadata": {},
   "outputs": [],
   "source": []
  },
  {
   "cell_type": "markdown",
   "metadata": {
    "id": "RIpzECOpcFa5"
   },
   "source": [
    "**PRACTICE OPPORTUNITY #5:**\n",
    "- **Plot the scatterplot between the mean radius and mean area. Comment on the plot** \n"
   ]
  },
  {
   "cell_type": "code",
   "execution_count": null,
   "metadata": {
    "id": "14dehTx3dNAw"
   },
   "outputs": [],
   "source": []
  },
  {
   "cell_type": "code",
   "execution_count": null,
   "metadata": {},
   "outputs": [],
   "source": []
  },
  {
   "cell_type": "code",
   "execution_count": null,
   "metadata": {},
   "outputs": [],
   "source": []
  },
  {
   "cell_type": "markdown",
   "metadata": {
    "id": "Al9AW2YLbezU"
   },
   "source": [
    "## CODING TASK #6. PLOT PAIRPLOT, DISPLOT, AND HEATMAPS/CORRELATIONS USING SEABORN"
   ]
  },
  {
   "cell_type": "markdown",
   "metadata": {
    "id": "DYsVoE4ko1Up"
   },
   "source": [
    "- **Plot the pairplot**\n",
    "- **Strong correlation between the mean radius and mean perimeter, mean area and mean primeter**\n",
    "- **plot the distplot** \n",
    "- **Displot combines matplotlib histogram function with kdeplot() (Kernel density estimate)**\n",
    "- **KDE is used to plot the Probability Density of a continuous variable.** "
   ]
  },
  {
   "cell_type": "code",
   "execution_count": null,
   "metadata": {
    "id": "u_UzA1GFo1cK"
   },
   "outputs": [],
   "source": []
  },
  {
   "cell_type": "code",
   "execution_count": null,
   "metadata": {},
   "outputs": [],
   "source": []
  },
  {
   "cell_type": "code",
   "execution_count": null,
   "metadata": {},
   "outputs": [],
   "source": []
  },
  {
   "cell_type": "markdown",
   "metadata": {
    "id": "BlEUElj_gGrm"
   },
   "source": [
    "**PRACTICE OPPORTUNITY #6:**\n",
    "- **Plot two separate distplot for each target class #0 and target class #1**\n"
   ]
  },
  {
   "cell_type": "code",
   "execution_count": null,
   "metadata": {
    "id": "YXYCeKy08W7L"
   },
   "outputs": [],
   "source": []
  },
  {
   "cell_type": "code",
   "execution_count": null,
   "metadata": {
    "id": "k16jk752eXbP"
   },
   "outputs": [],
   "source": []
  },
  {
   "cell_type": "code",
   "execution_count": null,
   "metadata": {
    "id": "oiRP_vmIeYGR"
   },
   "outputs": [],
   "source": []
  },
  {
   "cell_type": "markdown",
   "metadata": {
    "id": "-eqad_xGb8BS"
   },
   "source": [
    "# EXCELLENT JOB!"
   ]
  },
  {
   "cell_type": "markdown",
   "metadata": {
    "id": "JPrD3KlngIcb"
   },
   "source": [
    "# FINAL CAPSTONE PROJECT "
   ]
  },
  {
   "cell_type": "markdown",
   "metadata": {
    "id": "MDya8NwO8W7L"
   },
   "source": [
    "- In this project, we will visualize stock prices using Seaborn and Matplotlib. 4 Stocks are considered including JP Morgan Chase (JP), Procter and Gamble (P&G) (PG), Apple (AAPL) and United Airlines (UAL).\n",
    "- Using the stock_daily_prices.csv and stocks_daily_returns.csv dataset included in the course/workshop package, please do the following:\n",
    "    - Import both datasets using Pandas.\n",
    "    - Using Matplotlib, plot lineplots that display all 4 stocks daily prices on one single figure.\n",
    "    - Using Matplotlib, plot 4 stocks daily prices on multiple subplots.\n",
    "    - Using Matplotlib, plot the 4 plots on subplots next to each other (all figures in one row).\n",
    "    - Using Matplotlib, plot the scatterplot between Apple and JP Morgan daily returns. \n",
    "    - Using Seaborn, plot similar scatterplot between Apple and JP Morgan daily returns. \n",
    "    - Assume that you decided to become bullish on AAPL and you allocated 70% of your assets in it. You also decided to equally divide the rest of your assets in other stocks (JPM, PG, and UAL). Using Matplotlib, plot a pie chart that shows these allocations. Use 'explode’ attribute to increase the separation between AAPL and the rest of the portfolio.\n",
    "    - Using Matplotlib, plot the histogram for United Airlines and P&G returns using 40 bins with red color. Display the mean and Standard deviation for both stocks on top of the figure. What did you conclude from this graph?\n",
    "    - Using Seaborn, plot a heatmap that shows the correlations between stocks daily returns. Comment on the correlation between UAL and P&G.\n",
    "    - Plot a 3D plot showing all daily returns from JPM, AAPL and UAL [External Research is required]."
   ]
  },
  {
   "cell_type": "code",
   "execution_count": null,
   "metadata": {
    "id": "wIWWYyH18W7L"
   },
   "outputs": [],
   "source": []
  },
  {
   "cell_type": "code",
   "execution_count": null,
   "metadata": {},
   "outputs": [],
   "source": []
  },
  {
   "cell_type": "code",
   "execution_count": null,
   "metadata": {},
   "outputs": [],
   "source": []
  },
  {
   "cell_type": "markdown",
   "metadata": {
    "id": "u3rNIkYhBQ8X"
   },
   "source": [
    "# GREAT JOB!"
   ]
  },
  {
   "attachments": {},
   "cell_type": "markdown",
   "metadata": {},
   "source": [
    "# <p style=\"background-color:green;font-family:newtimeroman;font-size:100%;color:white;text-align:center;border-radius:20px 20px;\"><b>Faydalı Olması Temennisiyle Teşekkürler</b></p>\n",
    "![](https://www.techproeducation.com/logo/headerlogo.svg)\n",
    "\n",
    "<b>Yeniliklerden ilk siz haberdar olmak istiyorsanız lütfen bizi takip etmeyi unutmayın </b>[YouTube](https://www.youtube.com/c/techproeducation) | [Instagram](https://www.instagram.com/techproeducation) | [Facebook](https://www.facebook.com/techproeducation) | [Telegram](https://t.me/joinchat/HH2qRvA-ulh4OWbb) | [Watsapp](https://api.whatsapp.com/send/?phone=%2B15853042959&text&type=phone_number&app_absent=0) | [Linkedin](https://www.linkedin.com/company/techproeducation/mycompany/) |"
   ]
  }
 ],
 "metadata": {
  "colab": {
   "collapsed_sections": [],
   "name": "Effective Data Visualization in Data Science.ipynb",
   "provenance": []
  },
  "kernelspec": {
   "display_name": "Python 3 (ipykernel)",
   "language": "python",
   "name": "python3"
  },
  "language_info": {
   "codemirror_mode": {
    "name": "ipython",
    "version": 3
   },
   "file_extension": ".py",
   "mimetype": "text/x-python",
   "name": "python",
   "nbconvert_exporter": "python",
   "pygments_lexer": "ipython3",
   "version": "3.11.5"
  },
  "toc": {
   "base_numbering": 1,
   "nav_menu": {},
   "number_sections": true,
   "sideBar": true,
   "skip_h1_title": false,
   "title_cell": "Table of Contents",
   "title_sidebar": "Contents",
   "toc_cell": false,
   "toc_position": {},
   "toc_section_display": true,
   "toc_window_display": true
  },
  "varInspector": {
   "cols": {
    "lenName": 16,
    "lenType": 16,
    "lenVar": 40
   },
   "kernels_config": {
    "python": {
     "delete_cmd_postfix": "",
     "delete_cmd_prefix": "del ",
     "library": "var_list.py",
     "varRefreshCmd": "print(var_dic_list())"
    },
    "r": {
     "delete_cmd_postfix": ") ",
     "delete_cmd_prefix": "rm(",
     "library": "var_list.r",
     "varRefreshCmd": "cat(var_dic_list()) "
    }
   },
   "types_to_exclude": [
    "module",
    "function",
    "builtin_function_or_method",
    "instance",
    "_Feature"
   ],
   "window_display": false
  }
 },
 "nbformat": 4,
 "nbformat_minor": 1
}
